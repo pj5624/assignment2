{
 "cells": [
  {
   "cell_type": "code",
   "execution_count": null,
   "id": "f5f12e0d-702e-48b6-8a3e-174d64003d29",
   "metadata": {},
   "outputs": [
    {
     "name": "stdout",
     "output_type": "stream",
     "text": [
      "\n",
      "1. Add note\n",
      "2. Get notes\n",
      "3. Add Wikipedia info to topic\n",
      "4. Exit\n"
     ]
    },
    {
     "name": "stdin",
     "output_type": "stream",
     "text": [
      "Choose an option:  1\n",
      "Enter the topic:  aaa\n",
      "Enter the text of the note:  1234\n",
      "Enter the timestamp (mm/dd/yy - HH:MM:SS):  12:12:12\n"
     ]
    },
    {
     "name": "stdout",
     "output_type": "stream",
     "text": [
      "Note added successfully.\n",
      "\n",
      "1. Add note\n",
      "2. Get notes\n",
      "3. Add Wikipedia info to topic\n",
      "4. Exit\n"
     ]
    },
    {
     "name": "stdin",
     "output_type": "stream",
     "text": [
      "Choose an option:  2\n",
      "Enter the topic to retrieve notes:  aaa\n"
     ]
    },
    {
     "name": "stdout",
     "output_type": "stream",
     "text": [
      "Notes under the topic: aaa\n",
      "- 1234\n",
      "\n",
      "1. Add note\n",
      "2. Get notes\n",
      "3. Add Wikipedia info to topic\n",
      "4. Exit\n"
     ]
    }
   ],
   "source": [
    "import xmlrpc.client\n",
    "\n",
    "server_address = 'http://localhost:8000/'\n",
    "\n",
    "try:\n",
    "    server = xmlrpc.client.ServerProxy(server_address)\n",
    "except Exception as e:\n",
    "    print(f\"Failed to connect to the server at {server_address}\")\n",
    "    print(f\"Error: {e}\")\n",
    "    exit()\n",
    "\n",
    "def add_note_to_server():\n",
    "    topic = input(\"Enter the topic: \")\n",
    "    text = input(\"Enter the text of the note: \")\n",
    "    timestamp = input(\"Enter the timestamp (mm/dd/yy - HH:MM:SS): \")\n",
    "    if server.add_note(topic, text, timestamp):\n",
    "        print(\"Note added successfully.\")\n",
    "    else:\n",
    "        print(\"Failed to add note.\")\n",
    "\n",
    "def get_notes_from_server():\n",
    "    topic = input(\"Enter the topic to retrieve notes: \")\n",
    "    notes = server.get_notes(topic)\n",
    "    if notes:\n",
    "        print(\"Notes under the topic:\", topic)\n",
    "        for note in notes:\n",
    "            print(f\"- {note}\")\n",
    "    else:\n",
    "        print(\"No notes found for this topic.\")\n",
    "def add_wikipedia_info_to_topic():\n",
    "    topic = input(\"Enter the topic to search on Wikipedia: \")\n",
    "    result = server.add_wikipedia_info(topic)\n",
    "    print(result)\n",
    "\n",
    "\n",
    "def main():\n",
    "    while True:\n",
    "        print(\"\\n1. Add note\\n2. Get notes\\n3. Add Wikipedia info to topic\\n4. Exit\")\n",
    "        choice = input(\"Choose an option: \")\n",
    "        if choice == '1':\n",
    "            add_note_to_server()\n",
    "        elif choice == '2':\n",
    "            get_notes_from_server()\n",
    "        elif choice == '3':\n",
    "            add_wikipedia_info_to_topic()\n",
    "        elif choice == '4':\n",
    "            print(\"Exiting...\")\n",
    "            break\n",
    "        else:\n",
    "            print(\"Invalid choice.\")\n",
    "\n",
    "if __name__ == '__main__':\n",
    "    main()\n"
   ]
  },
  {
   "cell_type": "code",
   "execution_count": null,
   "id": "00766298-ae47-4ae5-8175-669f2943021a",
   "metadata": {},
   "outputs": [],
   "source": []
  }
 ],
 "metadata": {
  "kernelspec": {
   "display_name": "Python 3 (ipykernel)",
   "language": "python",
   "name": "python3"
  },
  "language_info": {
   "codemirror_mode": {
    "name": "ipython",
    "version": 3
   },
   "file_extension": ".py",
   "mimetype": "text/x-python",
   "name": "python",
   "nbconvert_exporter": "python",
   "pygments_lexer": "ipython3",
   "version": "3.11.5"
  }
 },
 "nbformat": 4,
 "nbformat_minor": 5
}
